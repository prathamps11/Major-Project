{
  "nbformat": 4,
  "nbformat_minor": 0,
  "metadata": {
    "colab": {
      "provenance": [],
      "collapsed_sections": []
    },
    "kernelspec": {
      "name": "python3",
      "display_name": "Python 3"
    },
    "language_info": {
      "name": "python"
    }
  },
  "cells": [
    {
      "cell_type": "code",
      "execution_count": 2,
      "metadata": {
        "colab": {
          "base_uri": "https://localhost:8080/",
          "height": 235
        },
        "id": "57wMYDoKxGiK",
        "outputId": "c53d614d-bef1-4b29-f5a6-1bac2ca615d5"
      },
      "outputs": [
        {
          "output_type": "error",
          "ename": "error",
          "evalue": "ignored",
          "traceback": [
            "\u001b[0;31m---------------------------------------------------------------------------\u001b[0m",
            "\u001b[0;31merror\u001b[0m                                     Traceback (most recent call last)",
            "\u001b[0;32m<ipython-input-2-f0075efa9fcc>\u001b[0m in \u001b[0;36m<module>\u001b[0;34m\u001b[0m\n\u001b[1;32m      7\u001b[0m \u001b[0;32mwhile\u001b[0m \u001b[0;32mTrue\u001b[0m\u001b[0;34m:\u001b[0m\u001b[0;34m\u001b[0m\u001b[0;34m\u001b[0m\u001b[0m\n\u001b[1;32m      8\u001b[0m     \u001b[0mret\u001b[0m\u001b[0;34m,\u001b[0m\u001b[0mframe\u001b[0m \u001b[0;34m=\u001b[0m \u001b[0mcap\u001b[0m\u001b[0;34m.\u001b[0m\u001b[0mread\u001b[0m\u001b[0;34m(\u001b[0m\u001b[0;34m)\u001b[0m\u001b[0;31m# so it is reading the video from the cap variable\u001b[0m\u001b[0;34m\u001b[0m\u001b[0;34m\u001b[0m\u001b[0m\n\u001b[0;32m----> 9\u001b[0;31m     \u001b[0mhsv_frame\u001b[0m \u001b[0;34m=\u001b[0m \u001b[0mcv2\u001b[0m\u001b[0;34m.\u001b[0m\u001b[0mcvtColor\u001b[0m\u001b[0;34m(\u001b[0m\u001b[0mframe\u001b[0m\u001b[0;34m,\u001b[0m\u001b[0mcv2\u001b[0m\u001b[0;34m.\u001b[0m\u001b[0mCOLOR_BGR2HSV\u001b[0m\u001b[0;34m)\u001b[0m\u001b[0;34m\u001b[0m\u001b[0;34m\u001b[0m\u001b[0m\n\u001b[0m\u001b[1;32m     10\u001b[0m     \u001b[0mheight\u001b[0m\u001b[0;34m,\u001b[0m \u001b[0mwidth\u001b[0m\u001b[0;34m,\u001b[0m \u001b[0mret\u001b[0m\u001b[0;34m=\u001b[0m\u001b[0mframe\u001b[0m\u001b[0;34m.\u001b[0m\u001b[0mshape\u001b[0m\u001b[0;34m\u001b[0m\u001b[0;34m\u001b[0m\u001b[0m\n\u001b[1;32m     11\u001b[0m \u001b[0;34m\u001b[0m\u001b[0m\n",
            "\u001b[0;31merror\u001b[0m: OpenCV(4.6.0) /io/opencv/modules/imgproc/src/color.cpp:182: error: (-215:Assertion failed) !_src.empty() in function 'cvtColor'\n"
          ]
        }
      ],
      "source": [
        "#2.MAJOR PROJECT 2\n",
        "#Create any of the Image Processing Projects using Numpy and OpenCV.\n",
        "\n",
        "import cv2\n",
        "\n",
        "cap = cv2.VideoCapture(0)#0 reserves the default web cam port and 1 for pc or external cam\n",
        "cap.set(cv2.CAP_PROP_FRAME_WIDTH, 1280)\n",
        "cap.set(cv2.CAP_PROP_FRAME_HEIGHT, 720)\n",
        "\n",
        "while True:\n",
        "    ret,frame = cap.read()# so it is reading the video from the cap variable\n",
        "    hsv_frame = cv2.cvtColor(frame,cv2.COLOR_BGR2HSV)\n",
        "    height, width, ret=frame.shape\n",
        "\n",
        "    cx = int(width/2)\n",
        "    cy = int(height/2)\n",
        "\n",
        "    pixel_center = hsv_frame[cy,cx]\n",
        "    hue_value = pixel_center[0]\n",
        "\n",
        "    color = \"Undefined\" #defining colours based on hue with saturation and Value set to 255)\n",
        "    if hue_value <5:\n",
        "        color = \"RED\"\n",
        "    elif hue_value <22:\n",
        "        color = \"ORANGE\"\n",
        "    elif hue_value <33:\n",
        "        color = \"YELLOW\"\n",
        "    elif hue_value <43:\n",
        "        color = \"LIME\"\n",
        "    elif hue_value <33:\n",
        "        color = \"YELLOW\"\n",
        "    elif hue_value <78:\n",
        "        color = \"GREEN\"\n",
        "    elif hue_value <93:\n",
        "        color = \"BABY BLUE\"\n",
        "    elif hue_value <131:\n",
        "        color = \"BLUE\"\n",
        "    elif hue_value <140:\n",
        "        color = \"PURPLE\"\n",
        "    elif hue_value <155:\n",
        "        color = \"PINK\"\n",
        "    elif hue_value <170:\n",
        "        color = \"VIOLET\"\n",
        "    else:\n",
        "        color = \"RED\"\n",
        "\n",
        "    pixel_center_bgr = frame[cy,cx]    \n",
        "    print(pixel_center)\n",
        "    cv2.putText(frame, color, (10,50),0,1,(255,0,0), 2) # this will display the result on top left\n",
        "    cv2.circle(frame,(cx,cy),5,(255,0,0),3)             # pointer in the center of the screen\n",
        "    \n",
        "    cv2.imshow('My Live Sketch',frame)\n",
        "    if cv2.waitKey(1) == 13:\n",
        "        break\n",
        "\n",
        "cap.release() #It releases the port which was reserved\n",
        "#If cap.release is not done , it might corrupt your webcam drivers\n",
        "cv2.destroyAllWindows()"
      ]
    }
  ]
}